{
 "cells": [
  {
   "cell_type": "markdown",
   "id": "18247066",
   "metadata": {},
   "source": [
    "# if elif else statement"
   ]
  },
  {
   "cell_type": "code",
   "execution_count": 4,
   "id": "dd416ab8",
   "metadata": {},
   "outputs": [
    {
     "name": "stdout",
     "output_type": "stream",
     "text": [
      "yes i am yathi\n"
     ]
    }
   ],
   "source": [
    "Yathi=True\n",
    "\n",
    "if Yathi:\n",
    "    print(\"yes i am yathi\")\n"
   ]
  },
  {
   "cell_type": "code",
   "execution_count": 6,
   "id": "0bd0d190",
   "metadata": {},
   "outputs": [
    {
     "name": "stdout",
     "output_type": "stream",
     "text": [
      "no i am not yathi\n"
     ]
    }
   ],
   "source": [
    "Yathi=False\n",
    "\n",
    "if Yathi:\n",
    "    print(\"yes i am yathi\")\n",
    "else:\n",
    "    print(\"no i am not yathi\")"
   ]
  },
  {
   "cell_type": "code",
   "execution_count": 8,
   "id": "ac0bd507",
   "metadata": {},
   "outputs": [
    {
     "name": "stdout",
     "output_type": "stream",
     "text": [
      "Welcome to the childrens jail!\n"
     ]
    }
   ],
   "source": [
    "loc = 'school'\n",
    "\n",
    "if loc == 'panipuri Shop':\n",
    "    print('Welcome to the lovely food  Shop!')\n",
    "elif loc == 'school':\n",
    "    print('Welcome to the childrens jail!')\n",
    "elif loc == 'Bank':\n",
    "    print('Welcome to the bank!')\n",
    "else:\n",
    "    print('Where are you?')"
   ]
  },
  {
   "cell_type": "code",
   "execution_count": 10,
   "id": "71af2e92",
   "metadata": {},
   "outputs": [
    {
     "name": "stdout",
     "output_type": "stream",
     "text": [
      "hai Rama!\n"
     ]
    }
   ],
   "source": [
    "person='Rama'\n",
    "\n",
    "if person == 'Rama':\n",
    "    print('hai Rama!')\n",
    "elif person =='Sita':\n",
    "    print('hai sita!')\n",
    "else:\n",
    "    print(\"Hey, what's your name?\")"
   ]
  },
  {
   "cell_type": "code",
   "execution_count": null,
   "id": "ef9c4916",
   "metadata": {},
   "outputs": [],
   "source": []
  }
 ],
 "metadata": {
  "kernelspec": {
   "display_name": "Python 3 (ipykernel)",
   "language": "python",
   "name": "python3"
  },
  "language_info": {
   "codemirror_mode": {
    "name": "ipython",
    "version": 3
   },
   "file_extension": ".py",
   "mimetype": "text/x-python",
   "name": "python",
   "nbconvert_exporter": "python",
   "pygments_lexer": "ipython3",
   "version": "3.9.12"
  }
 },
 "nbformat": 4,
 "nbformat_minor": 5
}
