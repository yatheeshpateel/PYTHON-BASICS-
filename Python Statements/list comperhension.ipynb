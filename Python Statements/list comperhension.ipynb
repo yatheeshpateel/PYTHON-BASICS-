{
 "cells": [
  {
   "cell_type": "markdown",
   "id": "6bbbb5ef",
   "metadata": {},
   "source": [
    "# List Comprehensions\n",
    "\n",
    "IT IS A UNIQUE WAY QUICKLY CREATING LIST WITH PYTHON\n",
    "\n",
    "List comprehensions allow us to build out lists using a different notation\n"
   ]
  },
  {
   "cell_type": "code",
   "execution_count": 1,
   "id": "c4d46181",
   "metadata": {},
   "outputs": [],
   "source": [
    "lst = [s for s in \"yati\"]"
   ]
  },
  {
   "cell_type": "code",
   "execution_count": 3,
   "id": "59a5c81f",
   "metadata": {},
   "outputs": [
    {
     "data": {
      "text/plain": [
       "['y', 'a', 't', 'i']"
      ]
     },
     "execution_count": 3,
     "metadata": {},
     "output_type": "execute_result"
    }
   ],
   "source": [
    "lst"
   ]
  },
  {
   "cell_type": "code",
   "execution_count": 5,
   "id": "ae28c9cd",
   "metadata": {},
   "outputs": [],
   "source": [
    "lst = [s**2 for s in range (0,20)]"
   ]
  },
  {
   "cell_type": "code",
   "execution_count": 6,
   "id": "44389084",
   "metadata": {},
   "outputs": [
    {
     "data": {
      "text/plain": [
       "[0,\n",
       " 1,\n",
       " 4,\n",
       " 9,\n",
       " 16,\n",
       " 25,\n",
       " 36,\n",
       " 49,\n",
       " 64,\n",
       " 81,\n",
       " 100,\n",
       " 121,\n",
       " 144,\n",
       " 169,\n",
       " 196,\n",
       " 225,\n",
       " 256,\n",
       " 289,\n",
       " 324,\n",
       " 361]"
      ]
     },
     "execution_count": 6,
     "metadata": {},
     "output_type": "execute_result"
    }
   ],
   "source": [
    "lst\n"
   ]
  },
  {
   "cell_type": "code",
   "execution_count": 8,
   "id": "ba7648cc",
   "metadata": {},
   "outputs": [],
   "source": [
    "# to add if function \n",
    "\n",
    "lst = [s for s in range (11) if s%2==0]"
   ]
  },
  {
   "cell_type": "code",
   "execution_count": 9,
   "id": "12e69d50",
   "metadata": {},
   "outputs": [
    {
     "data": {
      "text/plain": [
       "[0, 2, 4, 6, 8, 10]"
      ]
     },
     "execution_count": 9,
     "metadata": {},
     "output_type": "execute_result"
    }
   ],
   "source": [
    "lst\n"
   ]
  },
  {
   "cell_type": "code",
   "execution_count": null,
   "id": "202839ba",
   "metadata": {},
   "outputs": [],
   "source": []
  }
 ],
 "metadata": {
  "kernelspec": {
   "display_name": "Python 3 (ipykernel)",
   "language": "python",
   "name": "python3"
  },
  "language_info": {
   "codemirror_mode": {
    "name": "ipython",
    "version": 3
   },
   "file_extension": ".py",
   "mimetype": "text/x-python",
   "name": "python",
   "nbconvert_exporter": "python",
   "pygments_lexer": "ipython3",
   "version": "3.9.12"
  }
 },
 "nbformat": 4,
 "nbformat_minor": 5
}
