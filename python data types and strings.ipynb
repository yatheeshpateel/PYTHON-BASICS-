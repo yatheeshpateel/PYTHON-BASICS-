{
 "cells": [
  {
   "cell_type": "code",
   "execution_count": 69,
   "id": "89229fae",
   "metadata": {},
   "outputs": [
    {
     "name": "stdout",
     "output_type": "stream",
     "text": [
      "the animal fox\n"
     ]
    }
   ],
   "source": [
    "print('the animal {}'.format('fox'))"
   ]
  },
  {
   "cell_type": "markdown",
   "id": "6154e544",
   "metadata": {},
   "source": [
    "# lists"
   ]
  },
  {
   "cell_type": "code",
   "execution_count": 1,
   "id": "b10c0ef1",
   "metadata": {},
   "outputs": [],
   "source": [
    "my_list=[100,'hello',20.0]"
   ]
  },
  {
   "cell_type": "code",
   "execution_count": 2,
   "id": "b7b5e14e",
   "metadata": {},
   "outputs": [
    {
     "data": {
      "text/plain": [
       "3"
      ]
     },
     "execution_count": 2,
     "metadata": {},
     "output_type": "execute_result"
    }
   ],
   "source": [
    "len(my_list)"
   ]
  },
  {
   "cell_type": "code",
   "execution_count": 3,
   "id": "94a34833",
   "metadata": {},
   "outputs": [],
   "source": [
    "new_list = ['one','two','three','four']"
   ]
  },
  {
   "cell_type": "code",
   "execution_count": 4,
   "id": "b32e6c60",
   "metadata": {},
   "outputs": [
    {
     "data": {
      "text/plain": [
       "['one', 'two', 'three', 'four']"
      ]
     },
     "execution_count": 4,
     "metadata": {},
     "output_type": "execute_result"
    }
   ],
   "source": [
    "new_list"
   ]
  },
  {
   "cell_type": "code",
   "execution_count": 8,
   "id": "4a3ad6e9",
   "metadata": {},
   "outputs": [],
   "source": [
    "new_list.append('five')"
   ]
  },
  {
   "cell_type": "code",
   "execution_count": 9,
   "id": "56218297",
   "metadata": {},
   "outputs": [
    {
     "data": {
      "text/plain": [
       "['one', 'two', 'three', 'four', 'five']"
      ]
     },
     "execution_count": 9,
     "metadata": {},
     "output_type": "execute_result"
    }
   ],
   "source": [
    "new_list"
   ]
  },
  {
   "cell_type": "code",
   "execution_count": 10,
   "id": "ca186045",
   "metadata": {},
   "outputs": [
    {
     "data": {
      "text/plain": [
       "'five'"
      ]
     },
     "execution_count": 10,
     "metadata": {},
     "output_type": "execute_result"
    }
   ],
   "source": [
    "new_list.pop()"
   ]
  },
  {
   "cell_type": "code",
   "execution_count": 11,
   "id": "6840947d",
   "metadata": {},
   "outputs": [],
   "source": [
    "new_list[0]='one is best'"
   ]
  },
  {
   "cell_type": "code",
   "execution_count": 12,
   "id": "a84696eb",
   "metadata": {},
   "outputs": [
    {
     "data": {
      "text/plain": [
       "['one is best', 'two', 'three', 'four']"
      ]
     },
     "execution_count": 12,
     "metadata": {},
     "output_type": "execute_result"
    }
   ],
   "source": [
    "new_list"
   ]
  },
  {
   "cell_type": "code",
   "execution_count": 13,
   "id": "824b45b0",
   "metadata": {},
   "outputs": [
    {
     "data": {
      "text/plain": [
       "'one is best'"
      ]
     },
     "execution_count": 13,
     "metadata": {},
     "output_type": "execute_result"
    }
   ],
   "source": [
    "new_list.pop(0)"
   ]
  },
  {
   "cell_type": "code",
   "execution_count": 14,
   "id": "91d5ac92",
   "metadata": {},
   "outputs": [
    {
     "data": {
      "text/plain": [
       "['two', 'three', 'four']"
      ]
     },
     "execution_count": 14,
     "metadata": {},
     "output_type": "execute_result"
    }
   ],
   "source": [
    "new_list"
   ]
  },
  {
   "cell_type": "code",
   "execution_count": 15,
   "id": "56eab9b5",
   "metadata": {},
   "outputs": [],
   "source": [
    "num_list=['1','2','5','4','8','6']"
   ]
  },
  {
   "cell_type": "code",
   "execution_count": 16,
   "id": "11b9e456",
   "metadata": {},
   "outputs": [
    {
     "data": {
      "text/plain": [
       "['1', '2', '5', '4', '8', '6']"
      ]
     },
     "execution_count": 16,
     "metadata": {},
     "output_type": "execute_result"
    }
   ],
   "source": [
    "num_list"
   ]
  },
  {
   "cell_type": "code",
   "execution_count": 17,
   "id": "de3a2390",
   "metadata": {},
   "outputs": [],
   "source": [
    "num_list.sort()"
   ]
  },
  {
   "cell_type": "code",
   "execution_count": 19,
   "id": "3069e4e6",
   "metadata": {},
   "outputs": [
    {
     "data": {
      "text/plain": [
       "['1', '2', '4', '5', '6', '8']"
      ]
     },
     "execution_count": 19,
     "metadata": {},
     "output_type": "execute_result"
    }
   ],
   "source": [
    "num_list"
   ]
  },
  {
   "cell_type": "code",
   "execution_count": 20,
   "id": "4f864e1e",
   "metadata": {},
   "outputs": [],
   "source": [
    "num_list.reverse()"
   ]
  },
  {
   "cell_type": "code",
   "execution_count": 22,
   "id": "b2180a4b",
   "metadata": {},
   "outputs": [
    {
     "data": {
      "text/plain": [
       "['8', '6', '5', '4', '2', '1']"
      ]
     },
     "execution_count": 22,
     "metadata": {},
     "output_type": "execute_result"
    }
   ],
   "source": [
    "num_list"
   ]
  },
  {
   "cell_type": "markdown",
   "id": "f3db327f",
   "metadata": {},
   "source": [
    "# Dictionaries \n",
    "we use curly braces{}"
   ]
  },
  {
   "cell_type": "code",
   "execution_count": 37,
   "id": "43a9bde3",
   "metadata": {},
   "outputs": [],
   "source": [
    "scope_languages={'python': '5star','java': 'fourstar','c++' : 'threestar'}"
   ]
  },
  {
   "cell_type": "code",
   "execution_count": 34,
   "id": "f35f944a",
   "metadata": {},
   "outputs": [
    {
     "data": {
      "text/plain": [
       "{'python': 'fivestar', 'java': 'fourstar', 'c++': 'threestar'}"
      ]
     },
     "execution_count": 34,
     "metadata": {},
     "output_type": "execute_result"
    }
   ],
   "source": [
    "scope_languages"
   ]
  },
  {
   "cell_type": "code",
   "execution_count": 38,
   "id": "d0845271",
   "metadata": {},
   "outputs": [
    {
     "data": {
      "text/plain": [
       "'5star'"
      ]
     },
     "execution_count": 38,
     "metadata": {},
     "output_type": "execute_result"
    }
   ],
   "source": [
    "scope_languages['python']"
   ]
  },
  {
   "cell_type": "code",
   "execution_count": 39,
   "id": "c63d7cd8",
   "metadata": {},
   "outputs": [
    {
     "data": {
      "text/plain": [
       "'fourstar'"
      ]
     },
     "execution_count": 39,
     "metadata": {},
     "output_type": "execute_result"
    }
   ],
   "source": [
    "scope_languages['java']"
   ]
  },
  {
   "cell_type": "code",
   "execution_count": 44,
   "id": "00b62a17",
   "metadata": {},
   "outputs": [],
   "source": [
    "d={'key':['a','b','c']}"
   ]
  },
  {
   "cell_type": "code",
   "execution_count": 45,
   "id": "a2e3002e",
   "metadata": {},
   "outputs": [
    {
     "data": {
      "text/plain": [
       "'c'"
      ]
     },
     "execution_count": 45,
     "metadata": {},
     "output_type": "execute_result"
    }
   ],
   "source": [
    "d['key'][2]"
   ]
  },
  {
   "cell_type": "code",
   "execution_count": 46,
   "id": "dacc1a4e",
   "metadata": {},
   "outputs": [
    {
     "data": {
      "text/plain": [
       "'C'"
      ]
     },
     "execution_count": 46,
     "metadata": {},
     "output_type": "execute_result"
    }
   ],
   "source": [
    "d['key'][2].upper()"
   ]
  },
  {
   "cell_type": "code",
   "execution_count": 47,
   "id": "fa6a068c",
   "metadata": {},
   "outputs": [],
   "source": [
    "# adding anoter key value to dict...."
   ]
  },
  {
   "cell_type": "code",
   "execution_count": 48,
   "id": "41ed3e55",
   "metadata": {},
   "outputs": [],
   "source": [
    "d={'key1':'123','key2':'456'}"
   ]
  },
  {
   "cell_type": "code",
   "execution_count": 49,
   "id": "d3db085a",
   "metadata": {},
   "outputs": [
    {
     "data": {
      "text/plain": [
       "{'key1': '123', 'key2': '456'}"
      ]
     },
     "execution_count": 49,
     "metadata": {},
     "output_type": "execute_result"
    }
   ],
   "source": [
    "d"
   ]
  },
  {
   "cell_type": "code",
   "execution_count": 51,
   "id": "e9960d08",
   "metadata": {},
   "outputs": [
    {
     "data": {
      "text/plain": [
       "'123'"
      ]
     },
     "execution_count": 51,
     "metadata": {},
     "output_type": "execute_result"
    }
   ],
   "source": [
    "d['key1']"
   ]
  },
  {
   "cell_type": "code",
   "execution_count": 54,
   "id": "b9ad89fc",
   "metadata": {},
   "outputs": [],
   "source": [
    "d['key']='789'"
   ]
  },
  {
   "cell_type": "code",
   "execution_count": 55,
   "id": "f04fa06b",
   "metadata": {},
   "outputs": [
    {
     "data": {
      "text/plain": [
       "{'key1': '123', 'key2': '456', 'key': '789'}"
      ]
     },
     "execution_count": 55,
     "metadata": {},
     "output_type": "execute_result"
    }
   ],
   "source": [
    "d"
   ]
  },
  {
   "cell_type": "code",
   "execution_count": 57,
   "id": "66c94b28",
   "metadata": {},
   "outputs": [
    {
     "data": {
      "text/plain": [
       "dict_keys(['key1', 'key2', 'key'])"
      ]
     },
     "execution_count": 57,
     "metadata": {},
     "output_type": "execute_result"
    }
   ],
   "source": [
    "d.keys()"
   ]
  },
  {
   "cell_type": "code",
   "execution_count": 58,
   "id": "e9aa188e",
   "metadata": {},
   "outputs": [
    {
     "data": {
      "text/plain": [
       "dict_values(['123', '456', '789'])"
      ]
     },
     "execution_count": 58,
     "metadata": {},
     "output_type": "execute_result"
    }
   ],
   "source": [
    "d.values()"
   ]
  },
  {
   "cell_type": "code",
   "execution_count": 59,
   "id": "96025dc9",
   "metadata": {},
   "outputs": [
    {
     "data": {
      "text/plain": [
       "dict_items([('key1', '123'), ('key2', '456'), ('key', '789')])"
      ]
     },
     "execution_count": 59,
     "metadata": {},
     "output_type": "execute_result"
    }
   ],
   "source": [
    "d.items()"
   ]
  },
  {
   "cell_type": "markdown",
   "id": "a0a988e7",
   "metadata": {},
   "source": [
    "# Tuples\n",
    "immutable : that cannot be change\n",
    "use parenthesis = (1,2,3)"
   ]
  },
  {
   "cell_type": "code",
   "execution_count": 60,
   "id": "e9758a5c",
   "metadata": {},
   "outputs": [],
   "source": [
    "t=(1,2,3)"
   ]
  },
  {
   "cell_type": "code",
   "execution_count": 61,
   "id": "67af4071",
   "metadata": {},
   "outputs": [],
   "source": [
    "list=[1,2,3]"
   ]
  },
  {
   "cell_type": "code",
   "execution_count": 62,
   "id": "969a66b1",
   "metadata": {},
   "outputs": [
    {
     "data": {
      "text/plain": [
       "tuple"
      ]
     },
     "execution_count": 62,
     "metadata": {},
     "output_type": "execute_result"
    }
   ],
   "source": [
    "type(t)"
   ]
  },
  {
   "cell_type": "code",
   "execution_count": 63,
   "id": "3b153694",
   "metadata": {},
   "outputs": [
    {
     "data": {
      "text/plain": [
       "list"
      ]
     },
     "execution_count": 63,
     "metadata": {},
     "output_type": "execute_result"
    }
   ],
   "source": [
    "type(list)"
   ]
  },
  {
   "cell_type": "code",
   "execution_count": 65,
   "id": "4e7aca8b",
   "metadata": {},
   "outputs": [],
   "source": [
    "t=('a','a','a','b','c','x','v')"
   ]
  },
  {
   "cell_type": "code",
   "execution_count": 66,
   "id": "b5da68c2",
   "metadata": {},
   "outputs": [
    {
     "data": {
      "text/plain": [
       "('a', 'a', 'a', 'b', 'c', 'x', 'v')"
      ]
     },
     "execution_count": 66,
     "metadata": {},
     "output_type": "execute_result"
    }
   ],
   "source": [
    "t"
   ]
  },
  {
   "cell_type": "code",
   "execution_count": 67,
   "id": "345e2e07",
   "metadata": {},
   "outputs": [
    {
     "data": {
      "text/plain": [
       "3"
      ]
     },
     "execution_count": 67,
     "metadata": {},
     "output_type": "execute_result"
    }
   ],
   "source": [
    "t.count('a')"
   ]
  },
  {
   "cell_type": "code",
   "execution_count": 68,
   "id": "a92be80e",
   "metadata": {},
   "outputs": [
    {
     "data": {
      "text/plain": [
       "0"
      ]
     },
     "execution_count": 68,
     "metadata": {},
     "output_type": "execute_result"
    }
   ],
   "source": [
    "t.index('a')"
   ]
  },
  {
   "cell_type": "markdown",
   "id": "0b54a113",
   "metadata": {},
   "source": [
    "# sets in Python\n",
    "unorderd collection of unique elements"
   ]
  },
  {
   "cell_type": "code",
   "execution_count": 70,
   "id": "a4fd3ca5",
   "metadata": {},
   "outputs": [],
   "source": [
    "my_set =set()"
   ]
  },
  {
   "cell_type": "code",
   "execution_count": 71,
   "id": "a8a8aa7d",
   "metadata": {},
   "outputs": [
    {
     "data": {
      "text/plain": [
       "set()"
      ]
     },
     "execution_count": 71,
     "metadata": {},
     "output_type": "execute_result"
    }
   ],
   "source": [
    "my_set"
   ]
  },
  {
   "cell_type": "code",
   "execution_count": 72,
   "id": "5aa57fb9",
   "metadata": {},
   "outputs": [],
   "source": [
    "my_set.add(1)"
   ]
  },
  {
   "cell_type": "code",
   "execution_count": 74,
   "id": "17510415",
   "metadata": {},
   "outputs": [
    {
     "data": {
      "text/plain": [
       "{1}"
      ]
     },
     "execution_count": 74,
     "metadata": {},
     "output_type": "execute_result"
    }
   ],
   "source": [
    "my_set"
   ]
  },
  {
   "cell_type": "code",
   "execution_count": 75,
   "id": "fffd1864",
   "metadata": {},
   "outputs": [],
   "source": [
    "my_set.add(2)"
   ]
  },
  {
   "cell_type": "code",
   "execution_count": 76,
   "id": "8a9e8197",
   "metadata": {},
   "outputs": [
    {
     "data": {
      "text/plain": [
       "{1, 2}"
      ]
     },
     "execution_count": 76,
     "metadata": {},
     "output_type": "execute_result"
    }
   ],
   "source": [
    "my_set"
   ]
  },
  {
   "cell_type": "code",
   "execution_count": 77,
   "id": "9dc1c578",
   "metadata": {},
   "outputs": [],
   "source": [
    "lists=[1,1,1,2,2,2,3,3,3]"
   ]
  },
  {
   "cell_type": "code",
   "execution_count": 79,
   "id": "2cf0439a",
   "metadata": {},
   "outputs": [
    {
     "data": {
      "text/plain": [
       "{1, 2, 3}"
      ]
     },
     "execution_count": 79,
     "metadata": {},
     "output_type": "execute_result"
    }
   ],
   "source": [
    "set(lists)"
   ]
  },
  {
   "cell_type": "markdown",
   "id": "3d5e6f0c",
   "metadata": {},
   "source": [
    "# Booleans\n",
    "\n",
    "True or false statements\n",
    "type bool"
   ]
  },
  {
   "cell_type": "code",
   "execution_count": 80,
   "id": "fae014e0",
   "metadata": {},
   "outputs": [
    {
     "data": {
      "text/plain": [
       "False"
      ]
     },
     "execution_count": 80,
     "metadata": {},
     "output_type": "execute_result"
    }
   ],
   "source": [
    "1>2"
   ]
  },
  {
   "cell_type": "markdown",
   "id": "435c618f",
   "metadata": {},
   "source": [
    "\n"
   ]
  },
  {
   "cell_type": "code",
   "execution_count": 81,
   "id": "556eed9d",
   "metadata": {},
   "outputs": [
    {
     "data": {
      "text/plain": [
       "True"
      ]
     },
     "execution_count": 81,
     "metadata": {},
     "output_type": "execute_result"
    }
   ],
   "source": [
    "1==1"
   ]
  },
  {
   "cell_type": "markdown",
   "id": "35b0e0f1",
   "metadata": {},
   "source": [
    "# Files"
   ]
  },
  {
   "cell_type": "code",
   "execution_count": 86,
   "id": "6878912d",
   "metadata": {},
   "outputs": [
    {
     "name": "stdout",
     "output_type": "stream",
     "text": [
      "Writing my_file.txt\n"
     ]
    }
   ],
   "source": [
    "%%writefile my_file.txt\n",
    "haii i am yatheesh pateel k g\n",
    "i am studying be cse branch"
   ]
  },
  {
   "cell_type": "code",
   "execution_count": 88,
   "id": "d7bae641",
   "metadata": {},
   "outputs": [],
   "source": [
    "myfile= open('my_file.txt')\n"
   ]
  },
  {
   "cell_type": "code",
   "execution_count": 89,
   "id": "98dfcc10",
   "metadata": {},
   "outputs": [
    {
     "data": {
      "text/plain": [
       "'haii i am yatheesh pateel k g\\ni am studying be cse branch\\n'"
      ]
     },
     "execution_count": 89,
     "metadata": {},
     "output_type": "execute_result"
    }
   ],
   "source": [
    "myfile.read()"
   ]
  },
  {
   "cell_type": "code",
   "execution_count": 90,
   "id": "72cda4bd",
   "metadata": {},
   "outputs": [
    {
     "data": {
      "text/plain": [
       "''"
      ]
     },
     "execution_count": 90,
     "metadata": {},
     "output_type": "execute_result"
    }
   ],
   "source": [
    "myfile.read()"
   ]
  },
  {
   "cell_type": "code",
   "execution_count": 91,
   "id": "200d8f3c",
   "metadata": {},
   "outputs": [
    {
     "data": {
      "text/plain": [
       "0"
      ]
     },
     "execution_count": 91,
     "metadata": {},
     "output_type": "execute_result"
    }
   ],
   "source": [
    "myfile.seek(0)"
   ]
  },
  {
   "cell_type": "code",
   "execution_count": 92,
   "id": "314f9a69",
   "metadata": {},
   "outputs": [
    {
     "data": {
      "text/plain": [
       "'haii i am yatheesh pateel k g\\ni am studying be cse branch\\n'"
      ]
     },
     "execution_count": 92,
     "metadata": {},
     "output_type": "execute_result"
    }
   ],
   "source": [
    "myfile.read()"
   ]
  },
  {
   "cell_type": "code",
   "execution_count": 94,
   "id": "ccfc6500",
   "metadata": {},
   "outputs": [
    {
     "data": {
      "text/plain": [
       "[]"
      ]
     },
     "execution_count": 94,
     "metadata": {},
     "output_type": "execute_result"
    }
   ],
   "source": [
    "myfile.readlines()"
   ]
  },
  {
   "cell_type": "code",
   "execution_count": 95,
   "id": "1f8923b2",
   "metadata": {},
   "outputs": [
    {
     "data": {
      "text/plain": [
       "0"
      ]
     },
     "execution_count": 95,
     "metadata": {},
     "output_type": "execute_result"
    }
   ],
   "source": [
    "myfile.seek(0)"
   ]
  },
  {
   "cell_type": "code",
   "execution_count": 96,
   "id": "b04fc2a6",
   "metadata": {},
   "outputs": [
    {
     "data": {
      "text/plain": [
       "['haii i am yatheesh pateel k g\\n', 'i am studying be cse branch\\n']"
      ]
     },
     "execution_count": 96,
     "metadata": {},
     "output_type": "execute_result"
    }
   ],
   "source": [
    "myfile.readlines()"
   ]
  },
  {
   "cell_type": "code",
   "execution_count": 97,
   "id": "bd014b99",
   "metadata": {},
   "outputs": [
    {
     "data": {
      "text/plain": [
       "'C:\\\\Users\\\\yathe'"
      ]
     },
     "execution_count": 97,
     "metadata": {},
     "output_type": "execute_result"
    }
   ],
   "source": [
    "pwd"
   ]
  },
  {
   "cell_type": "code",
   "execution_count": 100,
   "id": "78c5515a",
   "metadata": {},
   "outputs": [],
   "source": [
    "x = open('myfil.txt', 'w')\n",
    "x.write('This is my file')\n",
    "x.close()"
   ]
  },
  {
   "cell_type": "code",
   "execution_count": null,
   "id": "31c006c7",
   "metadata": {},
   "outputs": [],
   "source": []
  },
  {
   "cell_type": "code",
   "execution_count": null,
   "id": "78a35cff",
   "metadata": {},
   "outputs": [],
   "source": []
  }
 ],
 "metadata": {
  "kernelspec": {
   "display_name": "Python 3 (ipykernel)",
   "language": "python",
   "name": "python3"
  },
  "language_info": {
   "codemirror_mode": {
    "name": "ipython",
    "version": 3
   },
   "file_extension": ".py",
   "mimetype": "text/x-python",
   "name": "python",
   "nbconvert_exporter": "python",
   "pygments_lexer": "ipython3",
   "version": "3.9.12"
  }
 },
 "nbformat": 4,
 "nbformat_minor": 5
}
