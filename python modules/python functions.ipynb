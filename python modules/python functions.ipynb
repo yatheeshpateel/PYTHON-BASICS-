{
 "cells": [
  {
   "cell_type": "markdown",
   "id": "caf6ae7c",
   "metadata": {},
   "source": [
    "#A function is a block of code which only runs when it is called.\n",
    "\n",
    "You can pass data, known as parameters, into a function.\n",
    "\n",
    "A function can return data as a result.\n",
    "\n",
    "Creating a Function\n",
    "In Python a function is defined using the def keyword:"
   ]
  },
  {
   "cell_type": "code",
   "execution_count": 1,
   "id": "ace38ce0",
   "metadata": {},
   "outputs": [
    {
     "name": "stdout",
     "output_type": "stream",
     "text": [
      "hello yathi\n"
     ]
    }
   ],
   "source": [
    "def yathi():\n",
    "    print(\"hello yathi\")\n",
    "yathi()"
   ]
  },
  {
   "cell_type": "code",
   "execution_count": 11,
   "id": "b0a354f1",
   "metadata": {},
   "outputs": [
    {
     "name": "stdout",
     "output_type": "stream",
     "text": [
      "siddu yati\n"
     ]
    }
   ],
   "source": [
    "#accepting argument\n",
    "\n",
    "\n",
    "def yathi(fname):\n",
    "    print(fname+ ' yati')\n",
    "yathi('siddu')"
   ]
  },
  {
   "cell_type": "code",
   "execution_count": 16,
   "id": "6d75cc59",
   "metadata": {},
   "outputs": [
    {
     "name": "stdout",
     "output_type": "stream",
     "text": [
      " yati siddu\n",
      " yati malli\n"
     ]
    }
   ],
   "source": [
    "def yathi(fname):\n",
    "    print(' yati',fname )\n",
    "yathi('siddu')\n",
    "yathi('malli')\n"
   ]
  },
  {
   "cell_type": "markdown",
   "id": "08b87fae",
   "metadata": {},
   "source": [
    "# use return\n",
    "\n",
    "\n",
    "def add_num(num1,num2):\n",
    "    return num1+num2"
   ]
  },
  {
   "cell_type": "code",
   "execution_count": 15,
   "id": "ab3c403e",
   "metadata": {},
   "outputs": [
    {
     "data": {
      "text/plain": [
       "11"
      ]
     },
     "execution_count": 15,
     "metadata": {},
     "output_type": "execute_result"
    }
   ],
   "source": [
    "def add_num(num1,num2): \n",
    "    return num1+num2\n",
    "add_num(6,5)"
   ]
  },
  {
   "cell_type": "markdown",
   "id": "30c7afa1",
   "metadata": {},
   "source": [
    "#### The return keyword allows you to actually save the result of the output of a function as a variable. The print() function simply displays the output to you, but doesn't save it for future use. Let's explore this in more detail"
   ]
  },
  {
   "cell_type": "code",
   "execution_count": 17,
   "id": "4fed44ec",
   "metadata": {},
   "outputs": [
    {
     "data": {
      "text/plain": [
       "30"
      ]
     },
     "execution_count": 17,
     "metadata": {},
     "output_type": "execute_result"
    }
   ],
   "source": [
    "def yathi(a,b):\n",
    "    return a*b\n",
    "yathi(5,6)"
   ]
  },
  {
   "cell_type": "code",
   "execution_count": 18,
   "id": "c7538fff",
   "metadata": {},
   "outputs": [
    {
     "name": "stdout",
     "output_type": "stream",
     "text": [
      "30\n"
     ]
    }
   ],
   "source": [
    "def yathi(a,b):\n",
    "    print( a*b)\n",
    "yathi(5,6)"
   ]
  },
  {
   "cell_type": "code",
   "execution_count": 19,
   "id": "b7782d63",
   "metadata": {},
   "outputs": [
    {
     "name": "stdout",
     "output_type": "stream",
     "text": [
      "30\n"
     ]
    }
   ],
   "source": [
    "result=yathi(5,6)"
   ]
  },
  {
   "cell_type": "code",
   "execution_count": 20,
   "id": "e2462042",
   "metadata": {},
   "outputs": [],
   "source": [
    "result"
   ]
  },
  {
   "cell_type": "code",
   "execution_count": 21,
   "id": "21c6143c",
   "metadata": {},
   "outputs": [],
   "source": [
    "#so we use return function\n"
   ]
  },
  {
   "cell_type": "markdown",
   "id": "3a704d57",
   "metadata": {},
   "source": [
    "# logic with python function"
   ]
  },
  {
   "cell_type": "code",
   "execution_count": 1,
   "id": "5c0e2b95",
   "metadata": {},
   "outputs": [],
   "source": [
    "def even_check(number):\n",
    "    result= number%2==0\n",
    "    return result"
   ]
  },
  {
   "cell_type": "code",
   "execution_count": 2,
   "id": "47bc41f3",
   "metadata": {},
   "outputs": [
    {
     "data": {
      "text/plain": [
       "True"
      ]
     },
     "execution_count": 2,
     "metadata": {},
     "output_type": "execute_result"
    }
   ],
   "source": [
    "even_check(20)"
   ]
  },
  {
   "cell_type": "code",
   "execution_count": 3,
   "id": "13b87377",
   "metadata": {},
   "outputs": [
    {
     "data": {
      "text/plain": [
       "False"
      ]
     },
     "execution_count": 3,
     "metadata": {},
     "output_type": "execute_result"
    }
   ],
   "source": [
    "even_check(21)"
   ]
  },
  {
   "cell_type": "code",
   "execution_count": 4,
   "id": "2193f097",
   "metadata": {},
   "outputs": [],
   "source": [
    "#return true if any number is even inside a list"
   ]
  },
  {
   "cell_type": "code",
   "execution_count": 8,
   "id": "ecda2fe7",
   "metadata": {},
   "outputs": [],
   "source": [
    "def check(my_list):\n",
    "    for num in my_list:\n",
    "        if num%2==0:\n",
    "            return True\n",
    "        else :\n",
    "            pass\n",
    "        \n",
    "    return False"
   ]
  },
  {
   "cell_type": "code",
   "execution_count": 9,
   "id": "32424e45",
   "metadata": {},
   "outputs": [
    {
     "data": {
      "text/plain": [
       "True"
      ]
     },
     "execution_count": 9,
     "metadata": {},
     "output_type": "execute_result"
    }
   ],
   "source": [
    "check([1,2,3])"
   ]
  },
  {
   "cell_type": "code",
   "execution_count": 10,
   "id": "d44ac00e",
   "metadata": {},
   "outputs": [
    {
     "data": {
      "text/plain": [
       "True"
      ]
     },
     "execution_count": 10,
     "metadata": {},
     "output_type": "execute_result"
    }
   ],
   "source": [
    "check([1,2,3.4,5])"
   ]
  },
  {
   "cell_type": "code",
   "execution_count": 13,
   "id": "d96f5d0a",
   "metadata": {},
   "outputs": [],
   "source": [
    "check([1,3,3,9,7])"
   ]
  },
  {
   "cell_type": "markdown",
   "id": "ce6f3e49",
   "metadata": {},
   "source": [
    "## now will return all the even numbers in a list, otherwise return an empty list."
   ]
  },
  {
   "cell_type": "code",
   "execution_count": 14,
   "id": "81765ddf",
   "metadata": {},
   "outputs": [],
   "source": [
    "def check_even_list(num_list):\n",
    "    \n",
    "    even_numbers = []\n",
    "    \n",
    "    # Go through each number\n",
    "    for number in num_list:\n",
    "        # Once we get a \"hit\" on an even number, we append the even number\n",
    "        if number % 2 == 0:\n",
    "            even_numbers.append(number)\n",
    "        # Don't do anything if its not even\n",
    "        else:\n",
    "            pass\n",
    "    # Notice the indentation! This ensures we run through the entire for loop    \n",
    "    return even_numbers"
   ]
  },
  {
   "cell_type": "code",
   "execution_count": 15,
   "id": "d98c95d9",
   "metadata": {},
   "outputs": [
    {
     "data": {
      "text/plain": [
       "[2, 4]"
      ]
     },
     "execution_count": 15,
     "metadata": {},
     "output_type": "execute_result"
    }
   ],
   "source": [
    "check_even_list([1,2,3,4,5])"
   ]
  },
  {
   "cell_type": "code",
   "execution_count": 16,
   "id": "77e2e35b",
   "metadata": {},
   "outputs": [
    {
     "data": {
      "text/plain": [
       "[2, 4, 6, 4, 4, 4, 6, 8]"
      ]
     },
     "execution_count": 16,
     "metadata": {},
     "output_type": "execute_result"
    }
   ],
   "source": [
    "check_even_list([1,2,3,4,5,6,4,7,9,4,4,6,8])"
   ]
  },
  {
   "cell_type": "code",
   "execution_count": null,
   "id": "73951c64",
   "metadata": {},
   "outputs": [],
   "source": []
  }
 ],
 "metadata": {
  "kernelspec": {
   "display_name": "Python 3 (ipykernel)",
   "language": "python",
   "name": "python3"
  },
  "language_info": {
   "codemirror_mode": {
    "name": "ipython",
    "version": 3
   },
   "file_extension": ".py",
   "mimetype": "text/x-python",
   "name": "python",
   "nbconvert_exporter": "python",
   "pygments_lexer": "ipython3",
   "version": "3.9.12"
  }
 },
 "nbformat": 4,
 "nbformat_minor": 5
}
